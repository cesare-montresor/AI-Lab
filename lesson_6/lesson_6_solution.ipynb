{
 "cells": [
  {
   "cell_type": "markdown",
   "metadata": {},
   "source": [
    "# AI-LAB SESSION 5: Deep Reinforcement Learning\n",
    "\n",
    "In this lesson we will see some additional environment in addition to Cliff, the environment of the previus lesson. Moreover, we will see how to create and work with a neural network with Kears.\n",
    "\n",
    "## CartPole\n",
    "The environment used is **CartPole** (taken from the book of Sutton and Barto as visible in the figure)\n",
    "\n",
    "![Cartpole](images/cartpole.jpg)\n",
    "\n",
    "A pole is attached by an un-actuated joint to a cart, which moves along a frictionless track. The system is controlled by applying a force of +1 or -1 to the cart. The pendulum starts upright, and the goal is to prevent it from falling over. A reward of +1 is provided for every timestep that the pole remains upright. The episode ends when the pole is more than 15 degrees from vertical, or the cart moves more than 2.4 units from the center."
   ]
  },
  {
   "cell_type": "code",
   "execution_count": 1,
   "metadata": {},
   "outputs": [],
   "source": [
    "import os, sys, tensorflow.keras, random, numpy\n",
    "module_path = os.path.abspath(os.path.join('../tools'))\n",
    "if module_path not in sys.path:\n",
    "    sys.path.append(module_path)\n",
    "\n",
    "import gym, envs\n",
    "from utils.ai_lab_functions import *\n",
    "from timeit import default_timer as timer\n",
    "from tqdm import tqdm as tqdm\n",
    "from collections import deque\n",
    "from tensorflow.keras.models import Sequential\n",
    "from tensorflow.keras.layers import Dense, Dropout\n",
    "from tensorflow.keras.optimizers import Adam"
   ]
  },
  {
   "cell_type": "markdown",
   "metadata": {},
   "source": [
    "The **state** of environment is represented as a tuple of 4 values: \n",
    "- *Cart Position* ranged from -4.9 to 4.8\n",
    "- *Cart Velocity* ranged from -inf to +inf\n",
    "- *Pole Angle* ranged from -24 deg to 24 deg\n",
    "- *Pole Velocity* ranged from -inf to +inf\n",
    "\n",
    "The **actions** allowed in the environment are 2:\n",
    "- *action 0*: push cart to left\n",
    "- *action 1*: push cart to right\n",
    "\n",
    "The **reward** is 1 for every step taken, including the termination step."
   ]
  },
  {
   "cell_type": "code",
   "execution_count": 2,
   "metadata": {},
   "outputs": [
    {
     "name": "stdout",
     "output_type": "stream",
     "text": [
      "STARTING STATE: [-0.04308159  0.00616254  0.00745132  0.00695824]\n",
      "\tCart Position: -0.043081589055972404\n",
      "\tCart Velocity 0.00616253791935184\n",
      "\tPole Angle 0.007451324585389309 \n",
      "\tPole Velocity 0.006958244301048064\n",
      "\n",
      "POSSIBLE ACTIONS:  2\n"
     ]
    },
    {
     "name": "stderr",
     "output_type": "stream",
     "text": [
      "/home/dcorsi/miniconda3/lib/python3.8/site-packages/gym/logger.py:30: UserWarning: \u001b[33mWARN: Box bound precision lowered by casting to float32\u001b[0m\n",
      "  warnings.warn(colorize('%s: %s'%('WARN', msg % args), 'yellow'))\n"
     ]
    }
   ],
   "source": [
    "env = gym.make(\"CartPole-v1\")\n",
    "state = env.reset()\n",
    "print(\"STARTING STATE: {}\".format(state))\n",
    "print(\"\\tCart Position: {}\\n\\tCart Velocity {}\\n\\tPole Angle {} \\n\\tPole Velocity {}\".format(state[0], state[1], state[2], state[3]))\n",
    "\n",
    "print(\"\\nPOSSIBLE ACTIONS: \", env.action_space.n)"
   ]
  },
  {
   "cell_type": "markdown",
   "metadata": {},
   "source": [
    "Finally, we still have the standard functionalities of a Gym environments:\n",
    "- step(action): the agent performs action from the current state. Returns a tuple (new_state, reward, done, info) where:\n",
    "    - new_state: is the new state reached as a consequence of the agent's last action\n",
    "    - reward: the reward obtained by the agent in this step\n",
    "    - done: True if the episode is terminal, False otherwise\n",
    "    - info: not used, you can safely discard it\n",
    "\n",
    "- reset(): the environment is reset and the agent goes back to the starting position. Returns the initial state id"
   ]
  },
  {
   "cell_type": "markdown",
   "metadata": {},
   "source": [
    "## Neural Netowrk with Kears\n",
    "**Keras** is an open-source neural-network library written in Python. It is capable of running on top of TensorFlow, Microsoft Cognitive Toolkit, R, Theano, or PlaidML. Designed to enable fast experimentation with deep neural networks, it focuses on being user-friendly, modular, and extensible.\n",
    "\n",
    "![Network](images/neural_networks.png)\n",
    "\n",
    "With kears you can easly create a neural network with the **Sequential** module. Before train a neural netowrk you must compile it, selecting the loss function and the optimizer, in our experiment we will use the *mean_squared_error* and the *adam* optimizer, that is a standard configuration for a DQN problem."
   ]
  },
  {
   "cell_type": "code",
   "execution_count": 3,
   "metadata": {},
   "outputs": [],
   "source": [
    "input_layer = 3\n",
    "layer_size = 5\n",
    "output_layer = 2\n",
    "\n",
    "model = Sequential()\n",
    "model.add(Dense(layer_size, input_dim=input_layer, activation=\"relu\")) #input layer + hidden layer #1\n",
    "model.add(Dense(layer_size, activation=\"relu\")) #hidden layer #2\n",
    "model.add(Dense(layer_size, activation=\"relu\")) #hidden layer #3\n",
    "model.add(Dense(layer_size, activation=\"relu\")) #hidden layer #4\n",
    "model.add(Dense(layer_size, activation=\"relu\")) #hidden layer #5\n",
    "model.add(Dense(output_layer, activation=\"linear\")) #output layer\n",
    "\n",
    "model.compile(loss=\"mean_squared_error\", optimizer='adam') #loss function and optimzer definition"
   ]
  },
  {
   "cell_type": "markdown",
   "metadata": {},
   "source": [
    "In Keras you can compute the output of a netowrk with the **predict** function, that requires in input the values of the input layer nodes and return the corresponding values of the output layer."
   ]
  },
  {
   "cell_type": "code",
   "execution_count": 4,
   "metadata": {},
   "outputs": [
    {
     "name": "stdout",
     "output_type": "stream",
     "text": [
      "Input Netowrk: [0.7341173899022753, 0.4910126590158965, 0.752686850295103]\n",
      "Netowrk Prediction: [ 0.00022178 -0.00059763]\n"
     ]
    }
   ],
   "source": [
    "input_network = [random.uniform(0, 1), random.uniform(0, 1), random.uniform(0, 1)]\n",
    "output_network = model.predict(np.array([input_network]))\n",
    "print(\"Input Netowrk: {}\".format(input_network))\n",
    "print(\"Netowrk Prediction: {}\".format(output_network[0]))"
   ]
  },
  {
   "cell_type": "markdown",
   "metadata": {},
   "source": [
    "To train a network in Keras we must use the function **fit**, that take as input:\n",
    "- *input*: the input of the network that we are interested to train\n",
    "- *expected_output*: the output that we consider correct\n",
    "- *epochs*: the number of iteration for the backpropagation (in DQN this value is always 1)."
   ]
  },
  {
   "cell_type": "code",
   "execution_count": 5,
   "metadata": {},
   "outputs": [
    {
     "name": "stdout",
     "output_type": "stream",
     "text": [
      "Prediction 'before' training:\n",
      "[[0. 0.]]\n",
      "\n",
      "Prediction 'after' training:\n",
      "[[0. 0.]]\n"
     ]
    }
   ],
   "source": [
    "input_network = [random.uniform(0, 1), random.uniform(0, 1), random.uniform(0, 1)]\n",
    "expected_output = [0, 0]\n",
    "\n",
    "print(\"Prediction 'before' training:\")\n",
    "print(model.predict(np.array([input_network])))\n",
    "\n",
    "model.fit(np.array([input_network]), np.array([expected_output]), epochs=1000, verbose=0)\n",
    "\n",
    "print(\"\\nPrediction 'after' training:\")\n",
    "print(model.predict(np.array([input_network])))"
   ]
  },
  {
   "cell_type": "markdown",
   "metadata": {},
   "source": [
    "Finally, remember that for all the methods (*fit*, *predict*, ...) keras requires as input a numpy array of array, for example you must convert your state in the correct **shape**.  Kears will return, in the same way, an array of array, so to extract the corresponding ouutput layer you must select the first element."
   ]
  },
  {
   "cell_type": "code",
   "execution_count": 6,
   "metadata": {},
   "outputs": [
    {
     "name": "stdout",
     "output_type": "stream",
     "text": [
      "Prediction: [0. 0.]\n"
     ]
    }
   ],
   "source": [
    "state = np.array([0, 0, 0])\n",
    "# model.predict(input_network) will give you a shape error\n",
    "state = state.reshape(1, 3)\n",
    "print(\"Prediction:\", model.predict(state)[0])"
   ]
  },
  {
   "cell_type": "markdown",
   "metadata": {},
   "source": [
    "## Assignment: Q-Learning\n",
    "\n",
    "Your first assignement is to implement all the functions nexessary for a deep q-learning algorithm. In particular you must implement the following function: *create_model*, *train_model* and *DQN*.\n",
    "\n",
    "#### Hint:\n",
    "For the experience replay buffer you can use the python data structure *dequeue*, defining the maximum length allowed. With the *random.sample(replay_buffer, size)* function you can sample *size* element from the queue:"
   ]
  },
  {
   "cell_type": "code",
   "execution_count": 7,
   "metadata": {},
   "outputs": [
    {
     "name": "stdout",
     "output_type": "stream",
     "text": [
      "Get 3 element from replay_buffer: [0.44570713604915735, 0.1253678245294474, 0.9399761519727122]\n"
     ]
    }
   ],
   "source": [
    "replay_buffer = deque(maxlen=10000)\n",
    "for _ in range(100): replay_buffer.append(random.uniform(0, 1))\n",
    "    \n",
    "samples = random.sample(replay_buffer, 3) \n",
    "print(\"Get 3 element from replay_buffer:\", samples)"
   ]
  },
  {
   "cell_type": "code",
   "execution_count": 8,
   "metadata": {},
   "outputs": [],
   "source": [
    "def create_model(input_size, output_size, hidden_layer_size, hidden_layer_number):\n",
    "    \"\"\"\n",
    "    Create the neural netowrk model with the given parameters\n",
    "    \n",
    "    Args:\n",
    "        input_size: the number of nodes for the input layer\n",
    "        output_size: the number of nodes for the output layer\n",
    "        hidden_layer_size: the number of nodes for each hidden layer\n",
    "        hidden_layer_number: the number of hidden layers\n",
    "        \n",
    "    Returns:\n",
    "        model: the corresponding neural network\n",
    "    \"\"\"\n",
    "    model = Sequential()\n",
    "    model.add(Dense(hidden_layer_size, input_dim=input_size, activation=\"relu\"))\n",
    "    for _ in range(hidden_layer_number-1): \n",
    "        model.add(Dense(hidden_layer_size, activation=\"relu\"))\n",
    "    model.add(Dense(output_size, activation=\"linear\"))\n",
    "    model.compile(loss=\"mean_squared_error\", optimizer='adam')\n",
    "    return model"
   ]
  },
  {
   "cell_type": "code",
   "execution_count": 9,
   "metadata": {},
   "outputs": [],
   "source": [
    "def train_model(model, memory, batch_size, gamma=0.99):\n",
    "    \"\"\"\n",
    "    Performs the value iteration algorithm for a specific environment\n",
    "    \n",
    "    Args:\n",
    "        model: the neural network model to train\n",
    "        memory: the memory array on wich perform the training\n",
    "        batch_size: the size of the batch sampled from the memory\n",
    "        gamma: gamma value, the discount factor for the Bellman equation\n",
    "    \"\"\"    \n",
    "    \n",
    "    if (len(memory) < batch_size): return\n",
    "    \n",
    "    samples = random.sample(memory, batch_size) \n",
    "    for sample in samples:\n",
    "        state, action, reward, new_state, done = sample\n",
    "        target = model.predict(state)\n",
    "        if done: \n",
    "            target[0][action] = reward\n",
    "        else:\n",
    "            Q_future = max(model.predict(new_state)[0])\n",
    "            target[0][action] = reward + Q_future * gamma\n",
    "        \n",
    "        model.fit(state, target, epochs=1, verbose=0)\n",
    "        \n",
    "        \n",
    "def optimized_train_model(model, memory, batch_size, gamma=0.99):\n",
    "    if (len(memory) < batch_size): return\n",
    "    samples = random.sample(memory, batch_size) \n",
    "                          \n",
    "    states = np.array([i[0] for i in samples])\n",
    "    actions = np.array([i[1] for i in samples])\n",
    "    rewards = np.array([i[2] for i in samples])\n",
    "    next_states = np.array([i[3] for i in samples])\n",
    "    dones = np.array([i[4] for i in samples])\n",
    "                          \n",
    "    states = np.squeeze(states)\n",
    "    next_states = np.squeeze(next_states)\n",
    "                          \n",
    "    targets = rewards + gamma*(np.amax(model.predict_on_batch(next_states), axis=1))*(1-dones)\n",
    "    targets_full = model.predict_on_batch(states)\n",
    "\n",
    "    ind = np.array([i for i in range(batch_size)])\n",
    "    targets_full[[ind], [actions]] = targets\n",
    "\n",
    "    model.fit(states, targets_full, epochs=1, verbose=0)           "
   ]
  },
  {
   "cell_type": "code",
   "execution_count": 10,
   "metadata": {},
   "outputs": [],
   "source": [
    "def DQN(environment, neural_network, trials, goal_score, batch_size, epsilon_decay=0.9995):\n",
    "    \"\"\"\n",
    "    Performs the Q-Learning algorithm for a specific environment on a specific neural netowrk model\n",
    "    \n",
    "    Args:\n",
    "        environment: OpenAI Gym environment\n",
    "        neural_network: the neural netowrk to train\n",
    "        trials: the number of iterations for the training phase\n",
    "        goal_score: the minimum score to consider 'solved' the problem\n",
    "        batch_size: the size of the batch sampled from the memory\n",
    "        epsilon_decay: the dacay value of epsilon for the eps-greedy exploration\n",
    "        \n",
    "    Returns:\n",
    "        score_queue: 1-d dimensional array of the reward obtained at each trial step\n",
    "    \"\"\"\n",
    "            \n",
    "    score_queue = []\n",
    "    epsilon = 1.0; epsilon_min = 0.01 \n",
    "    experience_buffer = deque(maxlen=10000)\n",
    "    \n",
    "    for trial in range(trials):\n",
    "        cur_state = env.reset().reshape(1, 4)\n",
    "        score = 0\n",
    "        \n",
    "        while True:\n",
    "            # action selection\n",
    "            epsilon *= epsilon_decay\n",
    "            epsilon = max(epsilon_min, epsilon)\n",
    "            if(random.uniform(0, 1) < epsilon): action = env.action_space.sample()\n",
    "            else: action = numpy.argmax(neural_network.predict(cur_state)[0])\n",
    "                \n",
    "            # action execution\n",
    "            new_state, reward, done, _ = env.step(action)\n",
    "            \n",
    "            # add the tuple (state, action, reward, next_state) to the experience buffer\n",
    "            new_state = new_state.reshape(1, 4)        \n",
    "            experience_buffer.append([cur_state, action, reward, new_state, done])\n",
    "            \n",
    "            # update the state and iterate the cycle\n",
    "            cur_state = new_state\n",
    "            score += 1\n",
    "\n",
    "            # check for terminal state\n",
    "            if done: break\n",
    "                \n",
    "            # backpropagation step to train the network\n",
    "            optimized_train_model(neural_network, experience_buffer, batch_size)\n",
    "                \n",
    "        score_queue.append(score)\n",
    "        print(\"Episode: {:7.0f}, Score: {:3.0f}, EPS: {:3.2f}\".format(trial, score_queue[-1], epsilon))\n",
    "        if(score > goal_score): break\n",
    "    \n",
    "    return neural_network, score_queue"
   ]
  },
  {
   "cell_type": "code",
   "execution_count": 11,
   "metadata": {},
   "outputs": [
    {
     "name": "stdout",
     "output_type": "stream",
     "text": [
      "Episode:       0, Score:  33, EPS: 0.98\n",
      "Episode:       1, Score:  20, EPS: 0.97\n",
      "Episode:       2, Score:  25, EPS: 0.96\n",
      "Episode:       3, Score:  16, EPS: 0.95\n",
      "Episode:       4, Score:  36, EPS: 0.94\n",
      "Episode:       5, Score:  24, EPS: 0.93\n",
      "Episode:       6, Score:  25, EPS: 0.91\n",
      "Episode:       7, Score:  11, EPS: 0.91\n",
      "Episode:       8, Score:  19, EPS: 0.90\n",
      "Episode:       9, Score:  21, EPS: 0.89\n",
      "Episode:      10, Score:  17, EPS: 0.88\n",
      "Episode:      11, Score:  14, EPS: 0.88\n",
      "Episode:      12, Score:  39, EPS: 0.86\n",
      "Episode:      13, Score:  16, EPS: 0.85\n",
      "Episode:      14, Score:  48, EPS: 0.83\n",
      "Episode:      15, Score:  39, EPS: 0.82\n",
      "Episode:      16, Score:  19, EPS: 0.81\n",
      "Episode:      17, Score:  19, EPS: 0.80\n",
      "Episode:      18, Score:  50, EPS: 0.78\n",
      "Episode:      19, Score:  41, EPS: 0.77\n",
      "Episode:      20, Score:  22, EPS: 0.76\n",
      "Episode:      21, Score:  14, EPS: 0.75\n",
      "Episode:      22, Score:  26, EPS: 0.74\n",
      "Episode:      23, Score:  22, EPS: 0.73\n",
      "Episode:      24, Score:  25, EPS: 0.73\n",
      "Episode:      25, Score:  25, EPS: 0.72\n",
      "Episode:      26, Score:  21, EPS: 0.71\n",
      "Episode:      27, Score:  25, EPS: 0.70\n",
      "Episode:      28, Score:  27, EPS: 0.69\n",
      "Episode:      29, Score:  27, EPS: 0.68\n",
      "Episode:      30, Score:  59, EPS: 0.66\n",
      "Episode:      31, Score:  16, EPS: 0.66\n",
      "Episode:      32, Score:  21, EPS: 0.65\n",
      "Episode:      33, Score:  37, EPS: 0.64\n",
      "Episode:      34, Score:  21, EPS: 0.63\n",
      "Episode:      35, Score:  29, EPS: 0.62\n",
      "Episode:      36, Score:  27, EPS: 0.61\n",
      "Episode:      37, Score:  16, EPS: 0.61\n",
      "Episode:      38, Score:  24, EPS: 0.60\n",
      "Episode:      39, Score:  59, EPS: 0.58\n",
      "Episode:      40, Score:  27, EPS: 0.58\n",
      "Episode:      41, Score:  30, EPS: 0.57\n",
      "Episode:      42, Score:  31, EPS: 0.56\n",
      "Episode:      43, Score:  35, EPS: 0.55\n",
      "Episode:      44, Score:  32, EPS: 0.54\n",
      "Episode:      45, Score:  24, EPS: 0.53\n",
      "Episode:      46, Score:  53, EPS: 0.52\n",
      "Episode:      47, Score:  72, EPS: 0.50\n",
      "Episode:      48, Score:  79, EPS: 0.48\n",
      "Episode:      49, Score:  19, EPS: 0.48\n",
      "Episode:      50, Score:  85, EPS: 0.46\n",
      "Episode:      51, Score: 141, EPS: 0.43\n"
     ]
    }
   ],
   "source": [
    "env = gym.make(\"CartPole-v1\")\n",
    "neural_network = create_model(4, 2, 32, 2)\n",
    "neural_network, score = DQN(env, neural_network, trials=1000, goal_score=130, batch_size=64)"
   ]
  },
  {
   "cell_type": "markdown",
   "metadata": {},
   "source": [
    "## Execution\n",
    "The following code executes the DQN and plots the reward function, the execution could require up to 10 minutes on some computer. A more efficent version of the code can be found [here](https://github.com/d-corsi/BasicRL).\n",
    "Correct results for comparison can be found here below. Notice that since the executions are stochastic the charts could differ: the important thing is the global trend and the final convergence to a visible reward improvement."
   ]
  },
  {
   "cell_type": "code",
   "execution_count": 12,
   "metadata": {},
   "outputs": [
    {
     "data": {
      "image/png": "[encoded data removed]",
      "text/plain": [
       "<Figure size 936x432 with 1 Axes>"
      ]
     },
     "metadata": {
      "needs_background": "light"
     },
     "output_type": "display_data"
    }
   ],
   "source": [
    "rewser = []\n",
    "window = 10\n",
    "\n",
    "score = rolling(np.array(score), window)\n",
    "rewser.append({\"x\": np.arange(1, len(score) + 1), \"y\": score, \"ls\": \"-\", \"label\": \"DQN\"})\n",
    "plot(rewser, \"Rewards\", \"Episodes\", \"Rewards\")"
   ]
  },
  {
   "cell_type": "markdown",
   "metadata": {},
   "source": [
    "**Standard DQN on CartPole results:**\n",
    "<img src=\"images/results-standard.png\" width=\"600\">"
   ]
  }
 ],
 "metadata": {
  "kernelspec": {
   "display_name": "Python 3",
   "language": "python",
   "name": "python3"
  },
  "language_info": {
   "codemirror_mode": {
    "name": "ipython",
    "version": 3
   },
   "file_extension": ".py",
   "mimetype": "text/x-python",
   "name": "python",
   "nbconvert_exporter": "python",
   "pygments_lexer": "ipython3",
   "version": "3.8.5"
  }
 },
 "nbformat": 4,
 "nbformat_minor": 4
}
