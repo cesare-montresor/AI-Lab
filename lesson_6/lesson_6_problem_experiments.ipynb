{
 "cells": [
  {
   "cell_type": "markdown",
   "metadata": {
    "id": "W2as5Jww1ONk"
   },
   "source": [
    "# AI-LAB LESSON 6: Deep Reinforcement Learning\n",
    "\n",
    "In this lesson we will use the CartPole environment and we will see how to create and work with a neural network using Kears on top of Tensorflow.\n",
    "\n",
    "## CartPole\n",
    "The environment used is **CartPole** (taken from the book of Sutton and Barto as visible in the figure)\n",
    "\n",
    "![Cartpole](images/cartpole.jpg)\n",
    "\n",
    "A pole is attached by an un-actuated joint to a cart, which moves along a frictionless track. The system is controlled by applying a force of +1 or -1 to the cart. The pendulum starts upright, and the goal is to prevent it from falling over. A reward of +1 is provided for every timestep that the pole remains upright. The episode ends when the pole is more than 15 degrees from vertical, or the cart moves more than 2.4 units from the center."
   ]
  },
  {
   "cell_type": "code",
   "execution_count": null,
   "metadata": {
    "colab": {
     "base_uri": "https://localhost:8080/"
    },
    "id": "cJx8KvMS3z_k",
    "outputId": "427af2ae-2bd1-48d7-b077-a95084d279c8"
   },
   "outputs": [
    {
     "name": "stdout",
     "output_type": "stream",
     "text": [
      "Looking in indexes: https://pypi.org/simple, https://us-python.pkg.dev/colab-wheels/public/simple/\n",
      "Requirement already satisfied: gym in /usr/local/lib/python3.7/dist-packages (0.25.2)\n",
      "Requirement already satisfied: cloudpickle>=1.2.0 in /usr/local/lib/python3.7/dist-packages (from gym) (1.5.0)\n",
      "Requirement already satisfied: gym-notices>=0.0.4 in /usr/local/lib/python3.7/dist-packages (from gym) (0.0.8)\n",
      "Requirement already satisfied: importlib-metadata>=4.8.0 in /usr/local/lib/python3.7/dist-packages (from gym) (4.13.0)\n",
      "Requirement already satisfied: numpy>=1.18.0 in /usr/local/lib/python3.7/dist-packages (from gym) (1.21.6)\n",
      "Requirement already satisfied: zipp>=0.5 in /usr/local/lib/python3.7/dist-packages (from importlib-metadata>=4.8.0->gym) (3.10.0)\n",
      "Requirement already satisfied: typing-extensions>=3.6.4 in /usr/local/lib/python3.7/dist-packages (from importlib-metadata>=4.8.0->gym) (4.1.1)\n",
      "Looking in indexes: https://pypi.org/simple, https://us-python.pkg.dev/colab-wheels/public/simple/\n",
      "Requirement already satisfied: envs in /usr/local/lib/python3.7/dist-packages (1.4)\n"
     ]
    }
   ],
   "source": [
    "!pip install gym\n",
    "!pip install envs"
   ]
  },
  {
   "cell_type": "code",
   "execution_count": null,
   "metadata": {
    "id": "6b7gsHj71ONv"
   },
   "outputs": [],
   "source": [
    "import os, sys, tensorflow.keras, random\n",
    "import numpy as np\n",
    "module_path = os.path.abspath(os.path.join('../tools'))\n",
    "if module_path not in sys.path:\n",
    "    sys.path.append(module_path)\n",
    "\n",
    "import gym, envs\n",
    "#from utils.ai_lab_functions import *\n",
    "from timeit import default_timer as timer\n",
    "from tqdm import tqdm as tqdm\n",
    "from collections import deque\n",
    "from tensorflow.keras.models import Sequential, clone_model\n",
    "from tensorflow.keras.layers import Dense, Dropout\n",
    "from tensorflow.keras.optimizers import Adam"
   ]
  },
  {
   "cell_type": "markdown",
   "metadata": {
    "id": "e3_V96861ON1"
   },
   "source": [
    "The **state** of environment is represented as a tuple of 4 values: \n",
    "- *Cart Position* range from -4.9 to 4.8\n",
    "- *Cart Velocity* range from -inf to +inf\n",
    "- *Pole Angle* range from -24 deg to 24 deg\n",
    "- *Pole Velocity* range from -inf to +inf\n",
    "\n",
    "The **actions** allowed in the environment are 2:\n",
    "- *action 0*: push cart to left\n",
    "- *action 1*: push cart to right\n",
    "\n",
    "The **reward** is 1 for every step taken, including the termination step."
   ]
  },
  {
   "cell_type": "code",
   "execution_count": null,
   "metadata": {
    "colab": {
     "base_uri": "https://localhost:8080/"
    },
    "id": "om3ZTaRZ1ON7",
    "outputId": "27907be7-55cd-4bab-a43a-b4b288a2533d"
   },
   "outputs": [
    {
     "name": "stdout",
     "output_type": "stream",
     "text": [
      "STARTING STATE: [-0.04562154 -0.04639531 -0.03707342 -0.03068172]\n",
      "\tCart Position: -0.045621536672115326\n",
      "\tCart Velocity -0.046395305544137955\n",
      "\tPole Angle -0.037073422223329544 \n",
      "\tPole Velocity -0.03068172000348568\n",
      "\n",
      "POSSIBLE ACTIONS:  2\n",
      "push left --> s' [-0.04654944 -0.24096653 -0.03768706  0.2500775 ] r 1.0 done False \n",
      "\n"
     ]
    },
    {
     "name": "stderr",
     "output_type": "stream",
     "text": [
      "/usr/local/lib/python3.7/dist-packages/gym/core.py:318: DeprecationWarning: \u001b[33mWARN: Initializing wrapper in old step API which returns one bool instead of two. It is recommended to set `new_step_api=True` to use new step API. This will be the default behaviour in future.\u001b[0m\n",
      "  \"Initializing wrapper in old step API which returns one bool instead of two. It is recommended to set `new_step_api=True` to use new step API. This will be the default behaviour in future.\"\n",
      "/usr/local/lib/python3.7/dist-packages/gym/wrappers/step_api_compatibility.py:40: DeprecationWarning: \u001b[33mWARN: Initializing environment in old step API which returns one bool instead of two. It is recommended to set `new_step_api=True` to use new step API. This will be the default behaviour in future.\u001b[0m\n",
      "  \"Initializing environment in old step API which returns one bool instead of two. It is recommended to set `new_step_api=True` to use new step API. This will be the default behaviour in future.\"\n"
     ]
    }
   ],
   "source": [
    "env = gym.make(\"CartPole-v1\")\n",
    "state = env.reset()\n",
    "print(\"STARTING STATE: {}\".format(state))\n",
    "print(\"\\tCart Position: {}\\n\\tCart Velocity {}\\n\\tPole Angle {} \\n\\tPole Velocity {}\".format(state[0], state[1], state[2], state[3]))\n",
    "\n",
    "print(\"\\nPOSSIBLE ACTIONS: \", env.action_space.n)\n",
    "\n",
    "new_state, rew, done, _ = env.step(0)\n",
    "print(\"push left --> s' {} r {} done {} \\n\".format(new_state, rew, done))"
   ]
  },
  {
   "cell_type": "markdown",
   "metadata": {
    "id": "1UDey-LN1OOD"
   },
   "source": [
    "Finally, we still have the standard functionalities of a Gym environment:\n",
    "- step(action): the agent performs action from the current state. Returns a tuple (new_state, reward, done, info) where:\n",
    "    - new_state: is the new state reached as a consequence of the agent's last action\n",
    "    - reward: the reward obtained by the agent in this step\n",
    "    - done: True if the episode is terminal, False otherwise\n",
    "    - info: not used, you can safely discard it\n",
    "\n",
    "- reset(): the environment is reset and the agent goes back to the starting position. Returns the initial state id"
   ]
  },
  {
   "cell_type": "markdown",
   "metadata": {
    "id": "voPmO6Tr1OOH"
   },
   "source": [
    "## Neural network with Kears\n",
    "**Keras** is an open-source neural-network library written in Python. It is capable of running on top of TensorFlow, Microsoft Cognitive Toolkit, R, Theano, or PlaidML. Designed to enable fast experimentation with deep neural networks, it focuses on being user-friendly, modular, and extensible.\n",
    "\n",
    "![Network](images/neural_networks.png)\n",
    "\n",
    "With **Keras** you can easly create a neural network with the **Sequential** module. Before training a neural netowrk you must compile it, selecting the loss function and the optimizer. In our lab session we will use the *mean_squared_error* for the loss function and the *adam* optimizer, that is a standard configuration for the DQN approach."
   ]
  },
  {
   "cell_type": "code",
   "execution_count": null,
   "metadata": {
    "id": "nUm8lxwd1OOM"
   },
   "outputs": [],
   "source": [
    "input_layer = 3\n",
    "layer_size = 5\n",
    "output_layer = 2\n",
    "\n",
    "model = Sequential()\n",
    "model.add(Dense(layer_size, input_dim=input_layer, activation=\"relu\")) #input layer + hidden layer #1\n",
    "model.add(Dense(layer_size, activation=\"relu\")) #hidden layer #2\n",
    "model.add(Dense(layer_size, activation=\"relu\")) #hidden layer #3\n",
    "model.add(Dense(layer_size, activation=\"relu\")) #hidden layer #4\n",
    "model.add(Dense(layer_size, activation=\"relu\")) #hidden layer #5\n",
    "model.add(Dense(output_layer, activation=\"linear\")) #output layer\n",
    "\n",
    "model.compile(loss=\"mean_squared_error\", optimizer='adam') #loss function and optimzer definition"
   ]
  },
  {
   "cell_type": "markdown",
   "metadata": {
    "id": "OTzx3enY1OOT"
   },
   "source": [
    "In Keras you can compute the output of a network with the **predict** function, that requires in input the values of the input layer nodes and returns the corresponding values of the output layer."
   ]
  },
  {
   "cell_type": "code",
   "execution_count": null,
   "metadata": {
    "colab": {
     "base_uri": "https://localhost:8080/"
    },
    "id": "8gkFcL7U1OOX",
    "outputId": "2f873e36-c63e-424e-cc4f-2aed4dc49369"
   },
   "outputs": [
    {
     "name": "stdout",
     "output_type": "stream",
     "text": [
      "1/1 [==============================] - 1s 699ms/step\n",
      "Input network: [0.5739810327962329, 0.29712170350417844, 0.6866399455692473]\n",
      "network Prediction: [ 9.8468736e-05 -7.2231758e-03]\n"
     ]
    }
   ],
   "source": [
    "input_network = [random.uniform(0, 1), random.uniform(0, 1), random.uniform(0, 1)]\n",
    "output_network = model.predict(np.array([input_network]))\n",
    "print(\"Input network: {}\".format(input_network))\n",
    "print(\"network Prediction: {}\".format(output_network[0]))"
   ]
  },
  {
   "cell_type": "markdown",
   "metadata": {
    "id": "7VKGT7FB1OOh"
   },
   "source": [
    "To train a network in Keras we must use the function **fit**, that take as input:\n",
    "- *input*: the input of the network that we want to train\n",
    "- *expected_output*: the target output (i.e., the desired output)\n",
    "- *epochs*: the number of iteration for the backpropagation (in DQN this value is always 1)."
   ]
  },
  {
   "cell_type": "code",
   "execution_count": null,
   "metadata": {
    "colab": {
     "base_uri": "https://localhost:8080/"
    },
    "id": "-wj6RFDW1OOm",
    "outputId": "015d295d-de27-4934-c50c-f4677ee4bdd4"
   },
   "outputs": [
    {
     "name": "stdout",
     "output_type": "stream",
     "text": [
      "Prediction 'before' training:\n",
      "1/1 [==============================] - 0s 14ms/step\n",
      "[[0.00418298 0.00109151]]\n",
      "\n",
      "Prediction 'after' training:\n",
      "1/1 [==============================] - 0s 15ms/step\n",
      "[[0.00418298 0.00109151]]\n"
     ]
    }
   ],
   "source": [
    "input_network = [random.uniform(0, 1), random.uniform(0, 1), random.uniform(0, 1)]\n",
    "expected_output = [0, 0]\n",
    "\n",
    "print(\"Prediction 'before' training:\")\n",
    "print(model.predict(np.array([input_network])))\n",
    "\n",
    "#model.fit(np.array([input_network]), np.array([expected_output]), epochs=1000, verbose=0)\n",
    "\n",
    "print(\"\\nPrediction 'after' training:\")\n",
    "print(model.predict(np.array([input_network])))"
   ]
  },
  {
   "cell_type": "markdown",
   "metadata": {
    "id": "odCak_sf1OOs"
   },
   "source": [
    "Finally, remember that for all the methods (*fit*, *predict*, ...) keras requires as input a numpy array of arrays, for example you must convert your state in the correct **shape**.  Kears will return, in the same way, an array of array, so to extract the corresponding output layer you must select the first element."
   ]
  },
  {
   "cell_type": "code",
   "execution_count": null,
   "metadata": {
    "colab": {
     "base_uri": "https://localhost:8080/"
    },
    "id": "gp_d70Z71OOv",
    "outputId": "1481c1bc-0fe9-4d7e-cef6-fadb44e43b13"
   },
   "outputs": [
    {
     "name": "stdout",
     "output_type": "stream",
     "text": [
      "[[0 0 0]]\n",
      "1/1 [==============================] - 0s 58ms/step\n",
      "Prediction: [0. 0.]\n"
     ]
    }
   ],
   "source": [
    "state = np.array([0, 0, 0])\n",
    "#model.predict(state) #will give you an error\n",
    "state = state.reshape(1, 3)\n",
    "print(state)\n",
    "print(\"Prediction:\", model.predict(state)[0])"
   ]
  },
  {
   "cell_type": "markdown",
   "metadata": {
    "id": "U7-3F0Vw1OOy"
   },
   "source": [
    "## Assignment: Q-Learning\n",
    "\n",
    "Your assignement is to implement all the necessary functions for a deep q-learning algorithm. In particular you must implement the following functions: *create_model*, *train_model* and *DQN*.\n",
    "\n",
    "#### Hint:\n",
    "For the experience replay buffer you can use the python data structure *dequeue*, defining the maximum length allowed. With the *random.sample(replay_buffer, size)* function you can sample *size* element from the queue:\n"
   ]
  },
  {
   "cell_type": "code",
   "execution_count": null,
   "metadata": {
    "colab": {
     "base_uri": "https://localhost:8080/"
    },
    "id": "I3haM4Ln1OO6",
    "outputId": "57c4524d-da7c-4c6d-8dbb-01662003d001"
   },
   "outputs": [
    {
     "name": "stdout",
     "output_type": "stream",
     "text": [
      "Get 3 element from replay_buffer: [0.6831111344061894, 0.596394728726377, 0.47823666727871306]\n"
     ]
    }
   ],
   "source": [
    "replay_buffer = deque(maxlen=10000)\n",
    "for _ in range(100): replay_buffer.append(random.uniform(0, 1))\n",
    "\n",
    "samples = random.sample(replay_buffer, 3) \n",
    "print(\"Get 3 element from replay_buffer:\", samples)"
   ]
  },
  {
   "cell_type": "code",
   "execution_count": null,
   "metadata": {
    "id": "hXLw5hBd1OO_"
   },
   "outputs": [],
   "source": [
    "def create_model(input_size, output_size, hidden_layer_size, hidden_layer_number):\n",
    "    \"\"\"\n",
    "    Create the neural network model with the given parameters\n",
    "    \n",
    "    Args:\n",
    "        input_size: the number of nodes for the input layer\n",
    "        output_size: the number of nodes for the output layer\n",
    "        hidden_layer_size: the number of nodes for each hidden layer\n",
    "        hidden_layer_number: the number of hidden layers\n",
    "        \n",
    "    Returns:\n",
    "        model: the corresponding neural network\n",
    "    \"\"\"\n",
    "    model = Sequential()\n",
    "    model.add(Dense(hidden_layer_size, input_dim=input_size, activation=\"relu\")) #input layer + hidden layer #1\n",
    "    for _ in range(hidden_layer_number):\n",
    "        model.add(Dense(hidden_layer_size, activation=\"relu\")) #hidden layer #2\n",
    "    model.add(Dense(output_size, activation=\"linear\")) #output layer\n",
    "    model.compile(loss=\"mean_squared_error\", optimizer='adam')\n",
    "    return model"
   ]
  },
  {
   "cell_type": "code",
   "execution_count": null,
   "metadata": {
    "id": "FA4jmRKN1OPE"
   },
   "outputs": [],
   "source": [
    "def train_model(model, target_model, memory, batch_size, gamma=0.99):\n",
    "    \"\"\"\n",
    "    Performs the value iteration algorithm for a specific environment\n",
    "    \n",
    "    Args:\n",
    "        model: the neural network model to train\n",
    "        memory: the memory array on wich perform the training\n",
    "        batch_size: the size of the batch sampled from the memory\n",
    "        gamma: gamma value, the discount factor for the Bellman equation\n",
    "    \"\"\"    \n",
    "    batch_size = min(batch_size, len(memory))\n",
    "    minibatch = random.sample(memory, batch_size)\n",
    "    \n",
    "\n",
    "    for i,(state,action,new_state,reward,is_terminal) in enumerate(minibatch):\n",
    "        s = np.array(state).reshape(1,-1)\n",
    "        qvalue = model.predict(s, verbose = 0)[0]\n",
    "        qvalue[action] = reward\n",
    "        if not is_terminal:\n",
    "            new_qvalue = target_model.predict(np.array(new_state).reshape(1,-1), verbose = 0)[0]\n",
    "            max_qvalue = np.max(new_qvalue)\n",
    "            qvalue[action] += max_qvalue * gamma\n",
    "        \n",
    "        model.fit( s, qvalue.reshape(1,-1), epochs=1, verbose=0 )\n",
    "    \n",
    "    #states = [exp[0] for exp in minibatch]\n",
    "    #actions = (exp[1] for exp in minibatch)\n",
    "    #new_states = [exp[2] for exp in minibatch]\n",
    "    #rewards = [exp[3] for exp in minibatch]\n",
    "    #not_terminals = [0 if exp[4] else 1 for exp in minibatch]\n",
    "    \n",
    "    #qvalues = model.predict(np.array(states)) \n",
    "    #new_qvalues = model.predict(np.array(new_states))\n",
    "    #max_qvalues = np.max(new_qvalues, axis=1)\n",
    "    \n",
    "    #target_rewards = rewards + (not_terminals * max_qvalues * gamma)\n",
    "    #for i,(action,target_reward) in enumerate(zip(actions,target_rewards)):\n",
    "    #    qvalues[i][action] = target_reward\n",
    "    #model.fit( np.array(states),np.array(qvalues),epochs=1)\n",
    "       \n",
    "    return model"
   ]
  },
  {
   "cell_type": "code",
   "execution_count": null,
   "metadata": {
    "id": "45j_XDWt1OPJ"
   },
   "outputs": [],
   "source": [
    "def DQN(environment, nn, trials, goal_score, batch_size, epsilon_decay=0.9995):\n",
    "    \"\"\"\n",
    "    Performs the Q-Learning algorithm for a specific environment on a specific neural network model\n",
    "    \n",
    "    Args:\n",
    "        environment: OpenAI Gym environment\n",
    "        neural_network: the neural network to train\n",
    "        trials: the number of iterations for the training phase\n",
    "        goal_score: the minimum score to consider the problem 'solved'\n",
    "        batch_size: the size of the batch sampled from the memory\n",
    "        epsilon_decay: the decay value of epsilon for the eps-greedy exploration\n",
    "        \n",
    "    Returns:\n",
    "        score_queue: 1-d dimensional array of the reward obtained at each trial step\n",
    "    \"\"\"\n",
    "            \n",
    "    epsilon = 1.0; \n",
    "    epsilon_min = 0.01\n",
    "    score = 0;\n",
    "    score_queue = []\n",
    "    replay_buffer = deque(maxlen=10000)\n",
    "    #target_nn = clone_model(nn)\n",
    "    \n",
    "    for trial in range(trials):       \n",
    "        total_reward = 0\n",
    "        state = environment.reset()   \n",
    "        step = 0\n",
    "        while True:\n",
    "            #print(state)\n",
    "            #choose action\n",
    "            action = environment.action_space.sample()\n",
    "            if np.random.random() >= epsilon:\n",
    "                qvalues = nn.predict(state.reshape(1,-1) ,verbose = 0)\n",
    "                action = np.argmax(qvalues)\n",
    "            \n",
    "            # execute action\n",
    "            new_state, reward, is_terminal, _ = environment.step(action)\n",
    "            \n",
    "            # save experience\n",
    "            replay_buffer.append( [state, action, new_state, reward, is_terminal] )\n",
    "\n",
    "            # train \n",
    "            #nn=train_model(nn, target_nn, replay_buffer, batch_size)\n",
    "            nn=train_model(nn, nn, replay_buffer, batch_size)\n",
    "\n",
    "            #if step % 5 == 0: target_nn = clone_model(nn)\n",
    "\n",
    "            print('.', end=\"\")\n",
    "            epsilon = max(epsilon_min, epsilon * epsilon_decay)\n",
    "            # prepere for new trial\n",
    "            state = new_state\n",
    "            total_reward += reward\n",
    "            step += 1\n",
    "            if is_terminal: break\n",
    "        #stats\n",
    "        print(\"\\nEpisode: {:7.0f}, Score: {:3.0f}, EPS: {:3.2f}\".format(trial, total_reward, epsilon))\n",
    "        score_queue.append(total_reward)\n",
    "        if(score > goal_score): break\n",
    "    \n",
    "    return nn, score_queue"
   ]
  },
  {
   "cell_type": "code",
   "execution_count": null,
   "metadata": {
    "colab": {
     "base_uri": "https://localhost:8080/"
    },
    "id": "WzDKagYx1OPM",
    "outputId": "5344c54d-73eb-4eda-efe0-957ca92ccbc8"
   },
   "outputs": [
    {
     "name": "stdout",
     "output_type": "stream",
     "text": [
      "Model: \"sequential_11\"\n",
      "_________________________________________________________________\n",
      " Layer (type)                Output Shape              Param #   \n",
      "=================================================================\n",
      " dense_46 (Dense)            (None, 32)                160       \n",
      "                                                                 \n",
      " dense_47 (Dense)            (None, 32)                1056      \n",
      "                                                                 \n",
      " dense_48 (Dense)            (None, 32)                1056      \n",
      "                                                                 \n",
      " dense_49 (Dense)            (None, 2)                 66        \n",
      "                                                                 \n",
      "=================================================================\n",
      "Total params: 2,338\n",
      "Trainable params: 2,338\n",
      "Non-trainable params: 0\n",
      "_________________________________________________________________\n",
      "None\n",
      "........................\n",
      "Episode:       0, Score:  24, EPS: 0.98\n",
      "............\n",
      "Episode:       1, Score:  12, EPS: 0.96\n",
      "................\n",
      "Episode:       2, Score:  16, EPS: 0.95\n",
      ".............\n",
      "Episode:       3, Score:  13, EPS: 0.94\n",
      "...............................\n",
      "Episode:       4, Score:  31, EPS: 0.91\n",
      "............\n",
      "Episode:       5, Score:  12, EPS: 0.90\n",
      "..........................\n",
      "Episode:       6, Score:  26, EPS: 0.87\n",
      "..........................\n",
      "Episode:       7, Score:  26, EPS: 0.85\n",
      "..........\n",
      "Episode:       8, Score:  10, EPS: 0.84\n",
      "..........\n",
      "Episode:       9, Score:  10, EPS: 0.84\n",
      "...................................\n",
      "Episode:      10, Score:  35, EPS: 0.81\n",
      "............................\n",
      "Episode:      11, Score:  28, EPS: 0.78\n",
      "..............\n",
      "Episode:      12, Score:  14, EPS: 0.77\n",
      ".............\n",
      "Episode:      13, Score:  13, EPS: 0.76\n",
      "...........\n",
      "Episode:      14, Score:  11, EPS: 0.75\n",
      "..........\n",
      "Episode:      15, Score:  10, EPS: 0.75\n",
      "..........\n",
      "Episode:      16, Score:  10, EPS: 0.74\n",
      "............\n",
      "Episode:      17, Score:  12, EPS: 0.73\n",
      "............\n",
      "Episode:      18, Score:  12, EPS: 0.72\n",
      "..........\n",
      "Episode:      19, Score:  10, EPS: 0.72\n",
      "................................\n",
      "Episode:      20, Score:  32, EPS: 0.69\n",
      "..........\n",
      "Episode:      21, Score:  10, EPS: 0.69\n",
      ".............\n",
      "Episode:      22, Score:  13, EPS: 0.68\n",
      "..................\n",
      "Episode:      23, Score:  18, EPS: 0.66\n",
      "............\n",
      "Episode:      24, Score:  12, EPS: 0.66\n",
      "..........\n",
      "Episode:      25, Score:  10, EPS: 0.65\n",
      "...........\n",
      "Episode:      26, Score:  11, EPS: 0.64\n",
      "......................\n",
      "Episode:      27, Score:  22, EPS: 0.63\n",
      "...................\n",
      "Episode:      28, Score:  19, EPS: 0.62\n",
      "...........\n",
      "Episode:      29, Score:  11, EPS: 0.61\n",
      ".........\n",
      "Episode:      30, Score:   9, EPS: 0.61\n",
      "..........\n",
      "Episode:      31, Score:  10, EPS: 0.60\n",
      "............\n",
      "Episode:      32, Score:  12, EPS: 0.59\n",
      "...........\n",
      "Episode:      33, Score:  11, EPS: 0.59\n",
      ".............\n",
      "Episode:      34, Score:  13, EPS: 0.58\n",
      ".............\n",
      "Episode:      35, Score:  13, EPS: 0.57\n",
      ".............\n",
      "Episode:      36, Score:  13, EPS: 0.56\n",
      "...........\n",
      "Episode:      37, Score:  11, EPS: 0.56\n",
      "..........\n",
      "Episode:      38, Score:  10, EPS: 0.55\n",
      ".........\n",
      "Episode:      39, Score:   9, EPS: 0.55\n",
      "..........\n",
      "Episode:      40, Score:  10, EPS: 0.54\n",
      ".........\n",
      "Episode:      41, Score:   9, EPS: 0.54\n",
      ".................\n",
      "Episode:      42, Score:  17, EPS: 0.53\n",
      "............\n",
      "Episode:      43, Score:  12, EPS: 0.52\n",
      ".........................\n",
      "Episode:      44, Score:  25, EPS: 0.51\n"
     ]
    }
   ],
   "source": [
    "rewser = []\n",
    "window = 10\n",
    "\n",
    "env = gym.make(\"CartPole-v1\")\n",
    "neural_network = create_model(4, 2, 32, 2)\n",
    "print(neural_network.summary())\n",
    "neural_network, score = DQN(env, neural_network, trials=1000, goal_score=130, batch_size=32, epsilon_decay=0.999)\n",
    "\n",
    "if (score != []): #YOU CAN REMOVE THIS CHECK WHEN IMPLEMENTED\n",
    "    score = rolling(np.array(score), window)\n",
    "    rewser.append({\"x\": np.arange(1, len(score) + 1), \"y\": score, \"ls\": \"-\", \"label\": \"DQN\"})\n",
    "    plot(rewser, \"Rewards\", \"Episodes\", \"Rewards\")"
   ]
  },
  {
   "cell_type": "markdown",
   "metadata": {
    "id": "zRgV1pVV1OPP"
   },
   "source": [
    "## Execution\n",
    "The following code executes the DQN and plots the reward function, the execution could require up to 10 minutes on some computer. A more efficent version of the code can be found [here](https://github.com/d-corsi/BasicRL).\n",
    "Correct results for comparison can be found here below. Notice that since the executions are stochastic the charts could differ: the important thing is the global trend and the final convergence to a visible reward improvement."
   ]
  },
  {
   "cell_type": "markdown",
   "metadata": {
    "id": "S3aUKo4M1OPR"
   },
   "source": [
    "**Standard DQN on CartPole results:**\n",
    "<img src=\"images/results-dqn.png\" width=\"600\">"
   ]
  },
  {
   "cell_type": "code",
   "execution_count": null,
   "metadata": {
    "id": "dNC7hxGD4EZF"
   },
   "outputs": [],
   "source": []
  }
 ],
 "metadata": {
  "accelerator": "GPU",
  "colab": {
   "collapsed_sections": [],
   "provenance": []
  },
  "gpuClass": "standard",
  "kernelspec": {
   "display_name": "Python 3 (ipykernel)",
   "language": "python",
   "name": "python3"
  },
  "language_info": {
   "codemirror_mode": {
    "name": "ipython",
    "version": 3
   },
   "file_extension": ".py",
   "mimetype": "text/x-python",
   "name": "python",
   "nbconvert_exporter": "python",
   "pygments_lexer": "ipython3",
   "version": "3.7.3"
  }
 },
 "nbformat": 4,
 "nbformat_minor": 1
}
